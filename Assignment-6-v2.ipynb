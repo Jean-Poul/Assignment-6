{
 "cells": [
  {
   "cell_type": "markdown",
   "id": "b2e194c1-f827-499f-b8f3-7c3f45657594",
   "metadata": {},
   "source": [
    "# Assignment 6:   \n",
    "## Dimensionality reduction and the Project Walkthrough\n",
    "##### *This assignment is a walkthrough of Geron chapter 2.*\n",
    "\n",
    "##### Made by:\n",
    "\n",
    "#### **Jean-Poul Leth-Møller - cph-jl360**"
   ]
  },
  {
   "cell_type": "markdown",
   "id": "1485b54d-0a11-426e-96f5-f11d9b056905",
   "metadata": {},
   "source": [
    "## 1. Frame the problem"
   ]
  },
  {
   "cell_type": "markdown",
   "id": "a2f97738-482b-4a5b-886d-0239a78a5af2",
   "metadata": {},
   "source": [
    "Can I make a model that can predict and classify a label when using the iris dataset.  \n",
    "The following are the classes in the dataset:  \n",
    "-- Iris Setosa  \n",
    "-- Iris Versicolour  \n",
    "-- Iris Virginica\n",
    "  \n",
    "This will be done by supervised learning and is categorized as a classification task.\n",
    "MEsuring the performance of the model will be done with root mean square error (RMSE).\n"
   ]
  },
  {
   "cell_type": "markdown",
   "id": "10d4e77d-31fe-4460-bf6d-62be6b2216e6",
   "metadata": {
    "tags": []
   },
   "source": [
    "## 2. Setup"
   ]
  },
  {
   "cell_type": "code",
   "execution_count": 1,
   "id": "0a54a261-3216-4134-8c4d-cad7ae4bb2d8",
   "metadata": {},
   "outputs": [],
   "source": [
    "# Common imports\n",
    "import pandas as pd\n",
    "import numpy as np\n",
    "import os\n",
    "\n",
    "# to make this notebook's output stable across runs\n",
    "np.random.seed(42)\n",
    "\n",
    "# To plot pretty figures\n",
    "%matplotlib inline\n",
    "import matplotlib as mpl\n",
    "import matplotlib.pyplot as plt\n",
    "mpl.rc('axes', labelsize=14)\n",
    "mpl.rc('xtick', labelsize=12)\n",
    "mpl.rc('ytick', labelsize=12)\n",
    "from pandas.plotting import scatter_matrix\n",
    "import seaborn as sns\n",
    "sns.set_style('whitegrid')\n",
    "\n",
    "# Machine learning\n",
    "from sklearn.model_selection import train_test_split\n",
    "\n",
    "try:\n",
    "    from sklearn.preprocessing import OrdinalEncoder # just to raise an ImportError if Scikit-Learn < 0.20\n",
    "    from sklearn.preprocessing import OneHotEncoder\n",
    "except ImportError:\n",
    "    from future_encoders import OneHotEncoder # Scikit-Learn < 0.20\n",
    "\n",
    "from sklearn.linear_model import LinearRegression\n",
    "from sklearn.tree import DecisionTreeRegressor\n",
    "from sklearn.ensemble import RandomForestRegressor\n",
    "from sklearn.metrics import mean_squared_error\n",
    "from sklearn.metrics import mean_absolute_error\n",
    "from sklearn.preprocessing import StandardScaler\n",
    "from sklearn.decomposition import PCA\n",
    "\n",
    "# Where to save the figures\n",
    "PROJECT_ROOT_DIR = \".\"\n",
    "CHAPTER_ID = \"end_to_end_project\"\n",
    "IMAGES_PATH = os.path.join(PROJECT_ROOT_DIR, \"images\", CHAPTER_ID)\n",
    "os.makedirs(IMAGES_PATH, exist_ok=True)\n",
    "\n",
    "def save_fig(fig_id, tight_layout=True, fig_extension=\"png\", resolution=300):\n",
    "    path = os.path.join(IMAGES_PATH, fig_id + \".\" + fig_extension)\n",
    "    print(\"Saving figure\", fig_id)\n",
    "    if tight_layout:\n",
    "        plt.tight_layout()\n",
    "    plt.savefig(path, format=fig_extension, dpi=resolution)"
   ]
  },
  {
   "cell_type": "markdown",
   "id": "90ec4dd7-380e-4565-8bbc-0aeae978a91a",
   "metadata": {},
   "source": [
    "## 3. Get the data"
   ]
  },
  {
   "cell_type": "code",
   "execution_count": 2,
   "id": "bfd808f6-5849-4425-9723-537d29595242",
   "metadata": {},
   "outputs": [],
   "source": [
    "# Url for the dataset\n",
    "IRIS_URL = \"https://archive.ics.uci.edu/ml/machine-learning-databases/iris/iris.data\"\n",
    "# Method to be load the data into pandas dataframe\n",
    "def fetch_iris_data():\n",
    "    return pd.read_csv(IRIS_URL, names=['sepal length','sepal width','petal length','petal width','target'])"
   ]
  },
  {
   "cell_type": "code",
   "execution_count": 3,
   "id": "e8fd67b7-9533-418a-a602-5b24f0e54584",
   "metadata": {},
   "outputs": [],
   "source": [
    "df = fetch_iris_data()"
   ]
  },
  {
   "cell_type": "markdown",
   "id": "3b7ca212-d3d1-4489-968b-1260819ccd59",
   "metadata": {},
   "source": [
    "#### 3.1 Quick look into the data structure"
   ]
  },
  {
   "cell_type": "code",
   "execution_count": 4,
   "id": "dd27d6e1-3354-4c36-a359-939acd035006",
   "metadata": {},
   "outputs": [
    {
     "data": {
      "text/html": [
       "<div>\n",
       "<style scoped>\n",
       "    .dataframe tbody tr th:only-of-type {\n",
       "        vertical-align: middle;\n",
       "    }\n",
       "\n",
       "    .dataframe tbody tr th {\n",
       "        vertical-align: top;\n",
       "    }\n",
       "\n",
       "    .dataframe thead th {\n",
       "        text-align: right;\n",
       "    }\n",
       "</style>\n",
       "<table border=\"1\" class=\"dataframe\">\n",
       "  <thead>\n",
       "    <tr style=\"text-align: right;\">\n",
       "      <th></th>\n",
       "      <th>sepal length</th>\n",
       "      <th>sepal width</th>\n",
       "      <th>petal length</th>\n",
       "      <th>petal width</th>\n",
       "      <th>target</th>\n",
       "    </tr>\n",
       "  </thead>\n",
       "  <tbody>\n",
       "    <tr>\n",
       "      <th>0</th>\n",
       "      <td>5.1</td>\n",
       "      <td>3.5</td>\n",
       "      <td>1.4</td>\n",
       "      <td>0.2</td>\n",
       "      <td>Iris-setosa</td>\n",
       "    </tr>\n",
       "    <tr>\n",
       "      <th>1</th>\n",
       "      <td>4.9</td>\n",
       "      <td>3.0</td>\n",
       "      <td>1.4</td>\n",
       "      <td>0.2</td>\n",
       "      <td>Iris-setosa</td>\n",
       "    </tr>\n",
       "    <tr>\n",
       "      <th>2</th>\n",
       "      <td>4.7</td>\n",
       "      <td>3.2</td>\n",
       "      <td>1.3</td>\n",
       "      <td>0.2</td>\n",
       "      <td>Iris-setosa</td>\n",
       "    </tr>\n",
       "    <tr>\n",
       "      <th>3</th>\n",
       "      <td>4.6</td>\n",
       "      <td>3.1</td>\n",
       "      <td>1.5</td>\n",
       "      <td>0.2</td>\n",
       "      <td>Iris-setosa</td>\n",
       "    </tr>\n",
       "    <tr>\n",
       "      <th>4</th>\n",
       "      <td>5.0</td>\n",
       "      <td>3.6</td>\n",
       "      <td>1.4</td>\n",
       "      <td>0.2</td>\n",
       "      <td>Iris-setosa</td>\n",
       "    </tr>\n",
       "  </tbody>\n",
       "</table>\n",
       "</div>"
      ],
      "text/plain": [
       "   sepal length  sepal width  petal length  petal width       target\n",
       "0           5.1          3.5           1.4          0.2  Iris-setosa\n",
       "1           4.9          3.0           1.4          0.2  Iris-setosa\n",
       "2           4.7          3.2           1.3          0.2  Iris-setosa\n",
       "3           4.6          3.1           1.5          0.2  Iris-setosa\n",
       "4           5.0          3.6           1.4          0.2  Iris-setosa"
      ]
     },
     "execution_count": 4,
     "metadata": {},
     "output_type": "execute_result"
    }
   ],
   "source": [
    "# Five first rows in the dataset to get a picture of what kind of data I will be working with\n",
    "df.head()"
   ]
  },
  {
   "cell_type": "code",
   "execution_count": 5,
   "id": "9026b6f9-a998-4332-b517-46fbf6a6e796",
   "metadata": {},
   "outputs": [
    {
     "data": {
      "text/plain": [
       "(150, 5)"
      ]
     },
     "execution_count": 5,
     "metadata": {},
     "output_type": "execute_result"
    }
   ],
   "source": [
    "# Shape about the dataset\n",
    "df.shape"
   ]
  },
  {
   "cell_type": "code",
   "execution_count": 6,
   "id": "d4f19e6b-f467-4000-adc5-17915564fffa",
   "metadata": {},
   "outputs": [
    {
     "data": {
      "text/plain": [
       "Index(['sepal length', 'sepal width', 'petal length', 'petal width', 'target'], dtype='object')"
      ]
     },
     "execution_count": 6,
     "metadata": {},
     "output_type": "execute_result"
    }
   ],
   "source": [
    "# Overview over all the columns\n",
    "df.columns"
   ]
  },
  {
   "cell_type": "code",
   "execution_count": 7,
   "id": "4fa4ae9c-9f6f-4401-ab9d-f08521acbe83",
   "metadata": {},
   "outputs": [
    {
     "name": "stdout",
     "output_type": "stream",
     "text": [
      "<class 'pandas.core.frame.DataFrame'>\n",
      "RangeIndex: 150 entries, 0 to 149\n",
      "Data columns (total 5 columns):\n",
      " #   Column        Non-Null Count  Dtype  \n",
      "---  ------        --------------  -----  \n",
      " 0   sepal length  150 non-null    float64\n",
      " 1   sepal width   150 non-null    float64\n",
      " 2   petal length  150 non-null    float64\n",
      " 3   petal width   150 non-null    float64\n",
      " 4   target        150 non-null    object \n",
      "dtypes: float64(4), object(1)\n",
      "memory usage: 6.0+ KB\n"
     ]
    }
   ],
   "source": [
    "# Info is used to get a quick description of the data (rows, attribute and number of non-null values)\n",
    "df.info()"
   ]
  },
  {
   "cell_type": "code",
   "execution_count": 8,
   "id": "cfa84271-d87c-4d79-8e99-fefafa50081d",
   "metadata": {},
   "outputs": [],
   "source": [
    "# There are only 150 instances which indicates that this is a very small dataset\n",
    "# Furthermore I can see that all are numeric values except for the target which is an object, but since i loaded\n",
    "# this from a text file I know that the value must be a text attribute."
   ]
  },
  {
   "cell_type": "code",
   "execution_count": 9,
   "id": "a3736ce5-374c-4178-8708-cbf67bcf7a19",
   "metadata": {},
   "outputs": [
    {
     "data": {
      "text/plain": [
       "Iris-setosa        50\n",
       "Iris-versicolor    50\n",
       "Iris-virginica     50\n",
       "Name: target, dtype: int64"
      ]
     },
     "execution_count": 9,
     "metadata": {},
     "output_type": "execute_result"
    }
   ],
   "source": [
    "# I will now investigate which categories the target column contains\n",
    "df['target'].value_counts()"
   ]
  },
  {
   "cell_type": "code",
   "execution_count": 10,
   "id": "746d4ecc-b4e6-41ae-8abb-e291546788be",
   "metadata": {},
   "outputs": [],
   "source": [
    "# I can see that there is three categories "
   ]
  },
  {
   "cell_type": "code",
   "execution_count": 11,
   "id": "1722ffd1-8db9-4582-8882-95fb778f82c6",
   "metadata": {},
   "outputs": [
    {
     "data": {
      "text/html": [
       "<div>\n",
       "<style scoped>\n",
       "    .dataframe tbody tr th:only-of-type {\n",
       "        vertical-align: middle;\n",
       "    }\n",
       "\n",
       "    .dataframe tbody tr th {\n",
       "        vertical-align: top;\n",
       "    }\n",
       "\n",
       "    .dataframe thead th {\n",
       "        text-align: right;\n",
       "    }\n",
       "</style>\n",
       "<table border=\"1\" class=\"dataframe\">\n",
       "  <thead>\n",
       "    <tr style=\"text-align: right;\">\n",
       "      <th></th>\n",
       "      <th>sepal length</th>\n",
       "      <th>sepal width</th>\n",
       "      <th>petal length</th>\n",
       "      <th>petal width</th>\n",
       "    </tr>\n",
       "  </thead>\n",
       "  <tbody>\n",
       "    <tr>\n",
       "      <th>count</th>\n",
       "      <td>150.000000</td>\n",
       "      <td>150.000000</td>\n",
       "      <td>150.000000</td>\n",
       "      <td>150.000000</td>\n",
       "    </tr>\n",
       "    <tr>\n",
       "      <th>mean</th>\n",
       "      <td>5.843333</td>\n",
       "      <td>3.054000</td>\n",
       "      <td>3.758667</td>\n",
       "      <td>1.198667</td>\n",
       "    </tr>\n",
       "    <tr>\n",
       "      <th>std</th>\n",
       "      <td>0.828066</td>\n",
       "      <td>0.433594</td>\n",
       "      <td>1.764420</td>\n",
       "      <td>0.763161</td>\n",
       "    </tr>\n",
       "    <tr>\n",
       "      <th>min</th>\n",
       "      <td>4.300000</td>\n",
       "      <td>2.000000</td>\n",
       "      <td>1.000000</td>\n",
       "      <td>0.100000</td>\n",
       "    </tr>\n",
       "    <tr>\n",
       "      <th>25%</th>\n",
       "      <td>5.100000</td>\n",
       "      <td>2.800000</td>\n",
       "      <td>1.600000</td>\n",
       "      <td>0.300000</td>\n",
       "    </tr>\n",
       "    <tr>\n",
       "      <th>50%</th>\n",
       "      <td>5.800000</td>\n",
       "      <td>3.000000</td>\n",
       "      <td>4.350000</td>\n",
       "      <td>1.300000</td>\n",
       "    </tr>\n",
       "    <tr>\n",
       "      <th>75%</th>\n",
       "      <td>6.400000</td>\n",
       "      <td>3.300000</td>\n",
       "      <td>5.100000</td>\n",
       "      <td>1.800000</td>\n",
       "    </tr>\n",
       "    <tr>\n",
       "      <th>max</th>\n",
       "      <td>7.900000</td>\n",
       "      <td>4.400000</td>\n",
       "      <td>6.900000</td>\n",
       "      <td>2.500000</td>\n",
       "    </tr>\n",
       "  </tbody>\n",
       "</table>\n",
       "</div>"
      ],
      "text/plain": [
       "       sepal length  sepal width  petal length  petal width\n",
       "count    150.000000   150.000000    150.000000   150.000000\n",
       "mean       5.843333     3.054000      3.758667     1.198667\n",
       "std        0.828066     0.433594      1.764420     0.763161\n",
       "min        4.300000     2.000000      1.000000     0.100000\n",
       "25%        5.100000     2.800000      1.600000     0.300000\n",
       "50%        5.800000     3.000000      4.350000     1.300000\n",
       "75%        6.400000     3.300000      5.100000     1.800000\n",
       "max        7.900000     4.400000      6.900000     2.500000"
      ]
     },
     "execution_count": 11,
     "metadata": {},
     "output_type": "execute_result"
    }
   ],
   "source": [
    "# To get a summary of the numeric values I will use the desribe() method\n",
    "df.describe()"
   ]
  },
  {
   "cell_type": "code",
   "execution_count": 12,
   "id": "e1786115-4ac4-4b13-b6dd-a2681b6c584a",
   "metadata": {},
   "outputs": [],
   "source": [
    "# Most rows are self-explanatory (count, mean, min, max). Std stands for standard deviation which measures\n",
    "# how dispersed the values are. 25%, 50% and 75% shows the corresponding percentiles."
   ]
  },
  {
   "cell_type": "code",
   "execution_count": 13,
   "id": "dc1c4786-9ac6-4fd1-a895-f80bf4b47282",
   "metadata": {},
   "outputs": [
    {
     "data": {
      "text/plain": [
       "array([[<AxesSubplot:title={'center':'sepal length'}>,\n",
       "        <AxesSubplot:title={'center':'sepal width'}>],\n",
       "       [<AxesSubplot:title={'center':'petal length'}>,\n",
       "        <AxesSubplot:title={'center':'petal width'}>]], dtype=object)"
      ]
     },
     "execution_count": 13,
     "metadata": {},
     "output_type": "execute_result"
    },
    {
     "data": {
      "image/png": "[encoded data removed]",
      "text/plain": [
       "<Figure size 1440x1080 with 4 Axes>"
      ]
     },
     "metadata": {},
     "output_type": "display_data"
    }
   ],
   "source": [
    "# It is a good idea to visualize the data to better be able to understand relationships and correlations.\n",
    "# To begin with I will bin the data and show it as a histogram which shows the frequency of the numeric values.\n",
    "df.hist(bins=50, figsize=(20, 15))"
   ]
  },
  {
   "cell_type": "markdown",
   "id": "be83fc2e-3541-4987-b944-ec24b317267d",
   "metadata": {},
   "source": [
    "## 4. Creating a training and test set for my model"
   ]
  },
  {
   "cell_type": "code",
   "execution_count": 14,
   "id": "0b01689c-5a1f-4920-8bc8-3b497f81b325",
   "metadata": {},
   "outputs": [],
   "source": [
    "# I will not be looking into my test data to avoid data snooping bias which can result in a model that doesn't\n",
    "# as well as expected.\n",
    "# Typically 20% of the dataset is set aside for testing (which is picked randomly).\n",
    "# to make sure that the training set wont see or train on the test set random_state is used."
   ]
  },
  {
   "cell_type": "code",
   "execution_count": 15,
   "id": "3e6f0345-5ecb-465a-ae01-3ce3e9f34067",
   "metadata": {},
   "outputs": [],
   "source": [
    "train_set, test_set = train_test_split(df, test_size=0.2, random_state=42)"
   ]
  },
  {
   "cell_type": "code",
   "execution_count": 16,
   "id": "e6721371-a350-4115-ac3c-84134895f392",
   "metadata": {},
   "outputs": [
    {
     "name": "stdout",
     "output_type": "stream",
     "text": [
      "Training dataset (80%): 120\n",
      "Test dataset (20%): 30\n"
     ]
    }
   ],
   "source": [
    "# To verify that the data has been split correctly.\n",
    "print(\"Training dataset (80%):\", len(train_set))\n",
    "print(\"Test dataset (20%):\", len(test_set))"
   ]
  },
  {
   "cell_type": "code",
   "execution_count": 17,
   "id": "4073d272-d4a3-41c5-87aa-914e8a0172f5",
   "metadata": {},
   "outputs": [],
   "source": [
    "# To avoid sampling bias / skewed data (pick samples randomly) I could have used stratified sampling\n",
    "# (pick samples that represents the whole data).\n",
    "# The following library can be used to get stratified sampling:\n",
    "# from sklearn.model_selection import StratifiedShuffleSplit\n",
    "# split = StratifiedShuffleSplit(n_splits=1, test_size=0.2, random_state=42)\n",
    "# After this i could compare the stratified dataset with the random dataset to compare sampling bias."
   ]
  },
  {
   "cell_type": "code",
   "execution_count": 18,
   "id": "d715ef5e-3e10-42b5-988f-d4c2bd8cdf9b",
   "metadata": {},
   "outputs": [
    {
     "data": {
      "text/html": [
       "<div>\n",
       "<style scoped>\n",
       "    .dataframe tbody tr th:only-of-type {\n",
       "        vertical-align: middle;\n",
       "    }\n",
       "\n",
       "    .dataframe tbody tr th {\n",
       "        vertical-align: top;\n",
       "    }\n",
       "\n",
       "    .dataframe thead th {\n",
       "        text-align: right;\n",
       "    }\n",
       "</style>\n",
       "<table border=\"1\" class=\"dataframe\">\n",
       "  <thead>\n",
       "    <tr style=\"text-align: right;\">\n",
       "      <th></th>\n",
       "      <th>sepal length</th>\n",
       "      <th>sepal width</th>\n",
       "      <th>petal length</th>\n",
       "      <th>petal width</th>\n",
       "      <th>target</th>\n",
       "    </tr>\n",
       "  </thead>\n",
       "  <tbody>\n",
       "    <tr>\n",
       "      <th>22</th>\n",
       "      <td>4.6</td>\n",
       "      <td>3.6</td>\n",
       "      <td>1.0</td>\n",
       "      <td>0.2</td>\n",
       "      <td>Iris-setosa</td>\n",
       "    </tr>\n",
       "    <tr>\n",
       "      <th>15</th>\n",
       "      <td>5.7</td>\n",
       "      <td>4.4</td>\n",
       "      <td>1.5</td>\n",
       "      <td>0.4</td>\n",
       "      <td>Iris-setosa</td>\n",
       "    </tr>\n",
       "    <tr>\n",
       "      <th>65</th>\n",
       "      <td>6.7</td>\n",
       "      <td>3.1</td>\n",
       "      <td>4.4</td>\n",
       "      <td>1.4</td>\n",
       "      <td>Iris-versicolor</td>\n",
       "    </tr>\n",
       "    <tr>\n",
       "      <th>11</th>\n",
       "      <td>4.8</td>\n",
       "      <td>3.4</td>\n",
       "      <td>1.6</td>\n",
       "      <td>0.2</td>\n",
       "      <td>Iris-setosa</td>\n",
       "    </tr>\n",
       "    <tr>\n",
       "      <th>42</th>\n",
       "      <td>4.4</td>\n",
       "      <td>3.2</td>\n",
       "      <td>1.3</td>\n",
       "      <td>0.2</td>\n",
       "      <td>Iris-setosa</td>\n",
       "    </tr>\n",
       "  </tbody>\n",
       "</table>\n",
       "</div>"
      ],
      "text/plain": [
       "    sepal length  sepal width  petal length  petal width           target\n",
       "22           4.6          3.6           1.0          0.2      Iris-setosa\n",
       "15           5.7          4.4           1.5          0.4      Iris-setosa\n",
       "65           6.7          3.1           4.4          1.4  Iris-versicolor\n",
       "11           4.8          3.4           1.6          0.2      Iris-setosa\n",
       "42           4.4          3.2           1.3          0.2      Iris-setosa"
      ]
     },
     "execution_count": 18,
     "metadata": {},
     "output_type": "execute_result"
    }
   ],
   "source": [
    "train_set.head()"
   ]
  },
  {
   "cell_type": "code",
   "execution_count": 19,
   "id": "5de147d7-b5aa-4066-9347-74ffa5973fc0",
   "metadata": {},
   "outputs": [
    {
     "data": {
      "text/html": [
       "<div>\n",
       "<style scoped>\n",
       "    .dataframe tbody tr th:only-of-type {\n",
       "        vertical-align: middle;\n",
       "    }\n",
       "\n",
       "    .dataframe tbody tr th {\n",
       "        vertical-align: top;\n",
       "    }\n",
       "\n",
       "    .dataframe thead th {\n",
       "        text-align: right;\n",
       "    }\n",
       "</style>\n",
       "<table border=\"1\" class=\"dataframe\">\n",
       "  <thead>\n",
       "    <tr style=\"text-align: right;\">\n",
       "      <th></th>\n",
       "      <th>sepal length</th>\n",
       "      <th>sepal width</th>\n",
       "      <th>petal length</th>\n",
       "      <th>petal width</th>\n",
       "      <th>target</th>\n",
       "    </tr>\n",
       "  </thead>\n",
       "  <tbody>\n",
       "    <tr>\n",
       "      <th>73</th>\n",
       "      <td>6.1</td>\n",
       "      <td>2.8</td>\n",
       "      <td>4.7</td>\n",
       "      <td>1.2</td>\n",
       "      <td>Iris-versicolor</td>\n",
       "    </tr>\n",
       "    <tr>\n",
       "      <th>18</th>\n",
       "      <td>5.7</td>\n",
       "      <td>3.8</td>\n",
       "      <td>1.7</td>\n",
       "      <td>0.3</td>\n",
       "      <td>Iris-setosa</td>\n",
       "    </tr>\n",
       "    <tr>\n",
       "      <th>118</th>\n",
       "      <td>7.7</td>\n",
       "      <td>2.6</td>\n",
       "      <td>6.9</td>\n",
       "      <td>2.3</td>\n",
       "      <td>Iris-virginica</td>\n",
       "    </tr>\n",
       "    <tr>\n",
       "      <th>78</th>\n",
       "      <td>6.0</td>\n",
       "      <td>2.9</td>\n",
       "      <td>4.5</td>\n",
       "      <td>1.5</td>\n",
       "      <td>Iris-versicolor</td>\n",
       "    </tr>\n",
       "    <tr>\n",
       "      <th>76</th>\n",
       "      <td>6.8</td>\n",
       "      <td>2.8</td>\n",
       "      <td>4.8</td>\n",
       "      <td>1.4</td>\n",
       "      <td>Iris-versicolor</td>\n",
       "    </tr>\n",
       "  </tbody>\n",
       "</table>\n",
       "</div>"
      ],
      "text/plain": [
       "     sepal length  sepal width  petal length  petal width           target\n",
       "73            6.1          2.8           4.7          1.2  Iris-versicolor\n",
       "18            5.7          3.8           1.7          0.3      Iris-setosa\n",
       "118           7.7          2.6           6.9          2.3   Iris-virginica\n",
       "78            6.0          2.9           4.5          1.5  Iris-versicolor\n",
       "76            6.8          2.8           4.8          1.4  Iris-versicolor"
      ]
     },
     "execution_count": 19,
     "metadata": {},
     "output_type": "execute_result"
    }
   ],
   "source": [
    "test_set.head()"
   ]
  },
  {
   "cell_type": "code",
   "execution_count": 20,
   "id": "596df466-509f-427e-b9e4-45b02bd300a3",
   "metadata": {},
   "outputs": [
    {
     "data": {
      "text/plain": [
       "<AxesSubplot:>"
      ]
     },
     "execution_count": 20,
     "metadata": {},
     "output_type": "execute_result"
    },
    {
     "data": {
      "image/png": "[encoded data removed]",
      "text/plain": [
       "<Figure size 432x288 with 1 Axes>"
      ]
     },
     "metadata": {},
     "output_type": "display_data"
    }
   ],
   "source": [
    "test_set['target'].hist()"
   ]
  },
  {
   "cell_type": "markdown",
   "id": "09bdcf44-4391-4e04-ba12-1fef73281dfc",
   "metadata": {},
   "source": [
    "## 5. Discover and visualize the data to gain insights"
   ]
  },
  {
   "cell_type": "code",
   "execution_count": 21,
   "id": "1a8e15bc-82ef-42eb-840c-783a76cbebc0",
   "metadata": {},
   "outputs": [],
   "source": [
    "# I will create a copy of the training set to be able to play with the data without harming the original set.\n",
    "play_df = train_set.copy()"
   ]
  },
  {
   "cell_type": "markdown",
   "id": "531a0403-10cb-4e22-82fe-5879cf897f40",
   "metadata": {},
   "source": [
    "#### 5.1 Visualizing data"
   ]
  },
  {
   "cell_type": "code",
   "execution_count": 22,
   "id": "ccba3685-9325-4d59-b9b1-6c2847ab8db1",
   "metadata": {},
   "outputs": [
    {
     "name": "stderr",
     "output_type": "stream",
     "text": [
      "C:\\Users\\jplm\\anaconda3\\lib\\site-packages\\seaborn\\_decorators.py:36: FutureWarning: Pass the following variable as a keyword arg: x. From version 0.12, the only valid positional argument will be `data`, and passing other arguments without an explicit keyword will result in an error or misinterpretation.\n",
      "  warnings.warn(\n"
     ]
    },
    {
     "data": {
      "text/plain": [
       "<AxesSubplot:title={'center':'Species Count'}, xlabel='target', ylabel='count'>"
      ]
     },
     "execution_count": 22,
     "metadata": {},
     "output_type": "execute_result"
    },
    {
     "data": {
      "image/png": "[encoded data removed]",
      "text/plain": [
       "<Figure size 432x288 with 1 Axes>"
      ]
     },
     "metadata": {},
     "output_type": "display_data"
    }
   ],
   "source": [
    "plt.title('Species Count')\n",
    "sns.countplot(play_df['target'])"
   ]
  },
  {
   "cell_type": "code",
   "execution_count": 23,
   "id": "c57206e5-a793-4be5-9e4d-ce75bffa36b6",
   "metadata": {},
   "outputs": [],
   "source": [
    "# I start by comparing the iris species based on sepal length and width "
   ]
  },
  {
   "cell_type": "code",
   "execution_count": 24,
   "id": "6921615c-9f7e-4147-a8b7-3df661dca478",
   "metadata": {},
   "outputs": [
    {
     "name": "stdout",
     "output_type": "stream",
     "text": [
      "Saving figure visualization_plot\n"
     ]
    },
    {
     "data": {
      "image/png": "[encoded data removed]",
      "text/plain": [
       "<Figure size 432x288 with 1 Axes>"
      ]
     },
     "metadata": {},
     "output_type": "display_data"
    }
   ],
   "source": [
    "play_df.plot(kind=\"scatter\", x=\"sepal length\", y=\"sepal width\", alpha=0.6)\n",
    "save_fig(\"visualization_plot\")"
   ]
  },
  {
   "cell_type": "code",
   "execution_count": 25,
   "id": "10907403-4c8d-4b68-abd7-343c9c2fff66",
   "metadata": {},
   "outputs": [
    {
     "name": "stdout",
     "output_type": "stream",
     "text": [
      "Saving figure sepal_width_vs_length_scatterplot\n"
     ]
    },
    {
     "data": {
      "image/png": "[encoded data removed]",
      "text/plain": [
       "<Figure size 720x504 with 2 Axes>"
      ]
     },
     "metadata": {},
     "output_type": "display_data"
    }
   ],
   "source": [
    "play_df.plot(kind=\"scatter\", x=\"sepal length\", y=\"sepal width\", alpha=1,\n",
    "    s=play_df[\"sepal length\"], label=\"sepal width vs length\", figsize=(10,7),\n",
    "    c=\"sepal width\", cmap=plt.get_cmap(\"jet\"), colorbar=True,\n",
    "    sharex=False)\n",
    "plt.legend()\n",
    "save_fig(\"sepal_width_vs_length_scatterplot\")"
   ]
  },
  {
   "cell_type": "code",
   "execution_count": 26,
   "id": "1f3c67e0-19c3-4191-8812-52acb3bdb252",
   "metadata": {},
   "outputs": [
    {
     "name": "stdout",
     "output_type": "stream",
     "text": [
      "Saving figure petal_width_vs_length_scatterplot\n"
     ]
    },
    {
     "data": {
      "image/png": "[encoded data removed]",
      "text/plain": [
       "<Figure size 720x504 with 2 Axes>"
      ]
     },
     "metadata": {},
     "output_type": "display_data"
    }
   ],
   "source": [
    "# Then i compare the the iris species based on petal length and width \n",
    "play_df.plot(kind=\"scatter\", x=\"petal length\", y=\"petal width\", alpha=1,\n",
    "    s=play_df[\"petal length\"], label=\"petal width vs length\", figsize=(10,7),\n",
    "    c='petal width', cmap=plt.get_cmap(\"jet\"), colorbar=True,\n",
    "    sharex=False)\n",
    "plt.legend()\n",
    "save_fig(\"petal_width_vs_length_scatterplot\")"
   ]
  },
  {
   "cell_type": "code",
   "execution_count": 27,
   "id": "e0ca567c-c817-42ea-95e9-f0e4c08bdf89",
   "metadata": {},
   "outputs": [],
   "source": [
    "# In this plot the data points are clustered together which can indicate a correlation within the iris species\n",
    "# (growth in petal length = bigger petal width)."
   ]
  },
  {
   "cell_type": "markdown",
   "id": "6cd715f0-466e-467a-833b-40099af20c54",
   "metadata": {},
   "source": [
    "#### 5.2 Looking for correlations"
   ]
  },
  {
   "cell_type": "code",
   "execution_count": 28,
   "id": "5cb5aadc-650f-4c25-b50c-da460efcfee1",
   "metadata": {},
   "outputs": [],
   "source": [
    "corr_matrix = play_df.corr()"
   ]
  },
  {
   "cell_type": "code",
   "execution_count": 29,
   "id": "177e783d-3135-4efd-b4b6-1a9869735e22",
   "metadata": {},
   "outputs": [],
   "source": [
    "# I will investigate petal length / width since I could see a correlation in the previous plot."
   ]
  },
  {
   "cell_type": "code",
   "execution_count": 30,
   "id": "744a4db0-2058-4bce-b465-a479cc730350",
   "metadata": {},
   "outputs": [
    {
     "data": {
      "text/plain": [
       "petal length    1.000000\n",
       "petal width     0.962432\n",
       "sepal length    0.862183\n",
       "sepal width    -0.422447\n",
       "Name: petal length, dtype: float64"
      ]
     },
     "execution_count": 30,
     "metadata": {},
     "output_type": "execute_result"
    }
   ],
   "source": [
    "corr_matrix[\"petal length\"].sort_values(ascending=False)"
   ]
  },
  {
   "cell_type": "code",
   "execution_count": 31,
   "id": "fb2dd471-0cd5-45fe-9473-bac8d59b7c2d",
   "metadata": {},
   "outputs": [],
   "source": [
    "# Here I can see that petal length has a strong positive correlation with \n",
    "# petal width (0.962432) and sepal length (0.862183).\n",
    "\n",
    "# The correlation coefficient ranges from -1 to 1.\n",
    "# When the value is close to 1 it means that there is a strong positive correlation.\n",
    "# When the value is close to -1 it means that there is a strong negative correlation."
   ]
  },
  {
   "cell_type": "code",
   "execution_count": 32,
   "id": "5b86a08f-c9b4-455c-8a7c-1956e0efaba3",
   "metadata": {},
   "outputs": [
    {
     "name": "stdout",
     "output_type": "stream",
     "text": [
      "Saving figure scatter_matrix_plot\n"
     ]
    },
    {
     "data": {
      "image/png": "[encoded data removed]",
      "text/plain": [
       "<Figure size 864x576 with 9 Axes>"
      ]
     },
     "metadata": {},
     "output_type": "display_data"
    }
   ],
   "source": [
    "# To visualize this I use pandas plotting\n",
    "attributes = [\"petal length\", \"petal width\", \"sepal length\"]\n",
    "scatter_matrix(play_df[attributes], figsize=(12, 8))\n",
    "save_fig(\"scatter_matrix_plot\")"
   ]
  },
  {
   "cell_type": "code",
   "execution_count": 33,
   "id": "ff557417-65cc-4815-a540-3df77054979c",
   "metadata": {},
   "outputs": [
    {
     "data": {
      "text/plain": [
       "<AxesSubplot:>"
      ]
     },
     "execution_count": 33,
     "metadata": {},
     "output_type": "execute_result"
    },
    {
     "data": {
      "image/png": "[encoded data removed]",
      "text/plain": [
       "<Figure size 576x432 with 2 Axes>"
      ]
     },
     "metadata": {},
     "output_type": "display_data"
    }
   ],
   "source": [
    "# This can also be visualized with a heatmap\n",
    "plt.figure(figsize=(8,6))\n",
    "iris_corr = play_df.corr()\n",
    "sns.heatmap(iris_corr, annot=True)"
   ]
  },
  {
   "cell_type": "code",
   "execution_count": 34,
   "id": "2d4dda6d-c517-4970-b65c-84ae46204f0a",
   "metadata": {},
   "outputs": [],
   "source": [
    "# Not only did I find that there is a strong positive correlation with petal length and petal width I can\n",
    "# also see a strong positive correlation with petal length and sepal length.\n",
    "# Furthermore I can see a negative correlation with petal length and sepal width."
   ]
  },
  {
   "cell_type": "code",
   "execution_count": 35,
   "id": "9fee90a1-226f-4cc3-ac20-0471ec1d00b4",
   "metadata": {},
   "outputs": [
    {
     "name": "stdout",
     "output_type": "stream",
     "text": [
      "Saving figure petal_length_vs_petal_width\n"
     ]
    },
    {
     "data": {
      "image/png": "[encoded data removed]",
      "text/plain": [
       "<Figure size 432x288 with 1 Axes>"
      ]
     },
     "metadata": {},
     "output_type": "display_data"
    }
   ],
   "source": [
    "play_df.plot(kind=\"scatter\", x=\"petal length\", y=\"petal width\",\n",
    "             alpha=0.6)\n",
    "plt.axis([0, 7, 0, 3])\n",
    "save_fig(\"petal_length_vs_petal_width\")"
   ]
  },
  {
   "cell_type": "code",
   "execution_count": 36,
   "id": "77976963-53dd-459b-aa19-9aea62d140e4",
   "metadata": {},
   "outputs": [
    {
     "data": {
      "text/plain": [
       "<AxesSubplot:xlabel='target', ylabel='sepal width'>"
      ]
     },
     "execution_count": 36,
     "metadata": {},
     "output_type": "execute_result"
    },
    {
     "data": {
      "image/png": "[encoded data removed]",
      "text/plain": [
       "<Figure size 1152x648 with 4 Axes>"
      ]
     },
     "metadata": {},
     "output_type": "display_data"
    }
   ],
   "source": [
    "# Finally I am seeing how the data i distributed and watch for outliers.\n",
    "fig, axes = plt.subplots(2,2, figsize=(16,9))\n",
    "\n",
    "sns.boxplot(x='target', y='petal length', data=play_df, orient='v', ax=axes[0,0])\n",
    "sns.boxplot(x='target', y='petal width', data=play_df, orient='v', ax=axes[0,1])\n",
    "sns.boxplot(x='target', y='sepal length', data=play_df, orient='v', ax=axes[1,0])\n",
    "sns.boxplot(x='target', y='sepal width', data=play_df, orient='v', ax=axes[1,1])"
   ]
  },
  {
   "cell_type": "markdown",
   "id": "5643d1c2-52e1-416c-a08a-b23dfc58ccee",
   "metadata": {},
   "source": [
    "## 6. Prepare the data for Machine Learning algorithms"
   ]
  },
  {
   "cell_type": "code",
   "execution_count": 37,
   "id": "c402202a-8b9d-4ac2-90c6-1dbcde5c13d0",
   "metadata": {},
   "outputs": [
    {
     "data": {
      "text/plain": [
       "sepal length    0\n",
       "sepal width     0\n",
       "petal length    0\n",
       "petal width     0\n",
       "target          0\n",
       "dtype: int64"
      ]
     },
     "execution_count": 37,
     "metadata": {},
     "output_type": "execute_result"
    }
   ],
   "source": [
    "# First of I will start by making sure the data is cleaned (not having missing values)\n",
    "train_set.isnull().sum()"
   ]
  },
  {
   "cell_type": "code",
   "execution_count": 107,
   "id": "e858a4c9-9cc6-4e4d-ab06-7155c989e0ed",
   "metadata": {},
   "outputs": [],
   "source": [
    "# Preparing X and y for the machine learning model\n",
    "array = train_set.values\n",
    "X = array[:,0:4]"
   ]
  },
  {
   "cell_type": "code",
   "execution_count": 108,
   "id": "f40f8994-2eea-4a5a-b04d-592b49d1bd8f",
   "metadata": {},
   "outputs": [],
   "source": [
    "# This combined with the .info() method I used in the beginning of this walkthrough, tells me that the dataset is\n",
    "# ready for training.\n",
    "# If I needed to fill some values I could use the .fillna() method.\n",
    "# SimpleImputer could also have been used:\n",
    "# try:\n",
    "#    from sklearn.impute import SimpleImputer # Scikit-Learn 0.20+\n",
    "#except ImportError:\n",
    "#    from sklearn.preprocessing import Imputer as SimpleImputer"
   ]
  },
  {
   "cell_type": "code",
   "execution_count": 109,
   "id": "cac8af10-a41e-4ddd-8a61-22acdff64a12",
   "metadata": {},
   "outputs": [
    {
     "data": {
      "text/html": [
       "<div>\n",
       "<style scoped>\n",
       "    .dataframe tbody tr th:only-of-type {\n",
       "        vertical-align: middle;\n",
       "    }\n",
       "\n",
       "    .dataframe tbody tr th {\n",
       "        vertical-align: top;\n",
       "    }\n",
       "\n",
       "    .dataframe thead th {\n",
       "        text-align: right;\n",
       "    }\n",
       "</style>\n",
       "<table border=\"1\" class=\"dataframe\">\n",
       "  <thead>\n",
       "    <tr style=\"text-align: right;\">\n",
       "      <th></th>\n",
       "      <th>target</th>\n",
       "    </tr>\n",
       "  </thead>\n",
       "  <tbody>\n",
       "    <tr>\n",
       "      <th>22</th>\n",
       "      <td>Iris-setosa</td>\n",
       "    </tr>\n",
       "    <tr>\n",
       "      <th>15</th>\n",
       "      <td>Iris-setosa</td>\n",
       "    </tr>\n",
       "    <tr>\n",
       "      <th>65</th>\n",
       "      <td>Iris-versicolor</td>\n",
       "    </tr>\n",
       "    <tr>\n",
       "      <th>11</th>\n",
       "      <td>Iris-setosa</td>\n",
       "    </tr>\n",
       "    <tr>\n",
       "      <th>42</th>\n",
       "      <td>Iris-setosa</td>\n",
       "    </tr>\n",
       "    <tr>\n",
       "      <th>146</th>\n",
       "      <td>Iris-virginica</td>\n",
       "    </tr>\n",
       "    <tr>\n",
       "      <th>51</th>\n",
       "      <td>Iris-versicolor</td>\n",
       "    </tr>\n",
       "    <tr>\n",
       "      <th>27</th>\n",
       "      <td>Iris-setosa</td>\n",
       "    </tr>\n",
       "    <tr>\n",
       "      <th>4</th>\n",
       "      <td>Iris-setosa</td>\n",
       "    </tr>\n",
       "    <tr>\n",
       "      <th>32</th>\n",
       "      <td>Iris-setosa</td>\n",
       "    </tr>\n",
       "  </tbody>\n",
       "</table>\n",
       "</div>"
      ],
      "text/plain": [
       "              target\n",
       "22       Iris-setosa\n",
       "15       Iris-setosa\n",
       "65   Iris-versicolor\n",
       "11       Iris-setosa\n",
       "42       Iris-setosa\n",
       "146   Iris-virginica\n",
       "51   Iris-versicolor\n",
       "27       Iris-setosa\n",
       "4        Iris-setosa\n",
       "32       Iris-setosa"
      ]
     },
     "execution_count": 109,
     "metadata": {},
     "output_type": "execute_result"
    }
   ],
   "source": [
    "# Now that I am working with categorical values in my column 'target' I will have to do one-hot encoding (0 = cold, 1 = hot)\n",
    "# to better be able to work with machine learning algorithms.\n",
    "iris_cat = train_set[['target']]\n",
    "iris_cat.head(10)"
   ]
  },
  {
   "cell_type": "code",
   "execution_count": 110,
   "id": "39b98822-ee4d-40e6-a045-52163d1f3bec",
   "metadata": {},
   "outputs": [],
   "source": [
    "cat_encoder = OneHotEncoder()\n",
    "iris_cat_1hot = cat_encoder.fit_transform(iris_cat)"
   ]
  },
  {
   "cell_type": "code",
   "execution_count": 111,
   "id": "c54d058d-d1b7-4c72-b356-699b61e5638f",
   "metadata": {},
   "outputs": [
    {
     "data": {
      "text/plain": [
       "array([[1., 0., 0.],\n",
       "       [1., 0., 0.],\n",
       "       [0., 1., 0.],\n",
       "       [1., 0., 0.],\n",
       "       [1., 0., 0.],\n",
       "       [0., 0., 1.],\n",
       "       [0., 1., 0.],\n",
       "       [1., 0., 0.],\n",
       "       [1., 0., 0.],\n",
       "       [1., 0., 0.],\n",
       "       [0., 0., 1.],\n",
       "       [0., 1., 0.],\n",
       "       [0., 1., 0.],\n",
       "       [1., 0., 0.],\n",
       "       [1., 0., 0.],\n",
       "       [0., 1., 0.],\n",
       "       [0., 0., 1.],\n",
       "       [0., 0., 1.],\n",
       "       [0., 1., 0.],\n",
       "       [0., 0., 1.],\n",
       "       [0., 1., 0.],\n",
       "       [0., 0., 1.],\n",
       "       [0., 1., 0.],\n",
       "       [1., 0., 0.],\n",
       "       [0., 0., 1.],\n",
       "       [0., 1., 0.],\n",
       "       [1., 0., 0.],\n",
       "       [1., 0., 0.],\n",
       "       [1., 0., 0.],\n",
       "       [0., 1., 0.],\n",
       "       [0., 0., 1.],\n",
       "       [1., 0., 0.],\n",
       "       [1., 0., 0.],\n",
       "       [1., 0., 0.],\n",
       "       [0., 1., 0.],\n",
       "       [1., 0., 0.],\n",
       "       [0., 1., 0.],\n",
       "       [0., 0., 1.],\n",
       "       [1., 0., 0.],\n",
       "       [0., 1., 0.],\n",
       "       [0., 0., 1.],\n",
       "       [1., 0., 0.],\n",
       "       [0., 0., 1.],\n",
       "       [0., 0., 1.],\n",
       "       [0., 1., 0.],\n",
       "       [0., 1., 0.],\n",
       "       [0., 0., 1.],\n",
       "       [0., 1., 0.],\n",
       "       [1., 0., 0.],\n",
       "       [0., 1., 0.],\n",
       "       [0., 0., 1.],\n",
       "       [1., 0., 0.],\n",
       "       [1., 0., 0.],\n",
       "       [0., 1., 0.],\n",
       "       [0., 1., 0.],\n",
       "       [1., 0., 0.],\n",
       "       [0., 0., 1.],\n",
       "       [1., 0., 0.],\n",
       "       [1., 0., 0.],\n",
       "       [0., 1., 0.],\n",
       "       [0., 1., 0.],\n",
       "       [0., 0., 1.],\n",
       "       [0., 1., 0.],\n",
       "       [0., 0., 1.],\n",
       "       [0., 0., 1.],\n",
       "       [0., 1., 0.],\n",
       "       [1., 0., 0.],\n",
       "       [1., 0., 0.],\n",
       "       [0., 0., 1.],\n",
       "       [0., 0., 1.],\n",
       "       [1., 0., 0.],\n",
       "       [1., 0., 0.],\n",
       "       [1., 0., 0.],\n",
       "       [0., 1., 0.],\n",
       "       [0., 0., 1.],\n",
       "       [1., 0., 0.],\n",
       "       [0., 0., 1.],\n",
       "       [0., 0., 1.],\n",
       "       [1., 0., 0.],\n",
       "       [0., 1., 0.],\n",
       "       [0., 1., 0.],\n",
       "       [0., 0., 1.],\n",
       "       [0., 1., 0.],\n",
       "       [0., 0., 1.],\n",
       "       [1., 0., 0.],\n",
       "       [0., 0., 1.],\n",
       "       [0., 1., 0.],\n",
       "       [0., 0., 1.],\n",
       "       [0., 1., 0.],\n",
       "       [0., 1., 0.],\n",
       "       [0., 1., 0.],\n",
       "       [1., 0., 0.],\n",
       "       [0., 1., 0.],\n",
       "       [0., 1., 0.],\n",
       "       [1., 0., 0.],\n",
       "       [0., 1., 0.],\n",
       "       [0., 0., 1.],\n",
       "       [0., 0., 1.],\n",
       "       [1., 0., 0.],\n",
       "       [0., 1., 0.],\n",
       "       [0., 0., 1.],\n",
       "       [0., 0., 1.],\n",
       "       [1., 0., 0.],\n",
       "       [0., 0., 1.],\n",
       "       [1., 0., 0.],\n",
       "       [0., 1., 0.],\n",
       "       [0., 0., 1.],\n",
       "       [0., 0., 1.],\n",
       "       [0., 1., 0.],\n",
       "       [0., 0., 1.],\n",
       "       [0., 1., 0.],\n",
       "       [0., 1., 0.],\n",
       "       [0., 0., 1.],\n",
       "       [0., 0., 1.],\n",
       "       [1., 0., 0.],\n",
       "       [0., 1., 0.],\n",
       "       [0., 0., 1.],\n",
       "       [1., 0., 0.],\n",
       "       [0., 1., 0.],\n",
       "       [0., 0., 1.]])"
      ]
     },
     "execution_count": 111,
     "metadata": {},
     "output_type": "execute_result"
    }
   ],
   "source": [
    "# The OneHotEncoder returns a sparse array but since I need a dense array I call the toarray() method\n",
    "iris_cat_1hot.toarray()"
   ]
  },
  {
   "cell_type": "code",
   "execution_count": 112,
   "id": "f28ddac8-9c4d-40cd-9e0d-7ad530c7bee2",
   "metadata": {},
   "outputs": [],
   "source": [
    "# y values for my training set\n",
    "y = iris_cat_1hot.toarray()"
   ]
  },
  {
   "cell_type": "code",
   "execution_count": 113,
   "id": "8854ea97-597c-40af-9d9e-a7256555a52c",
   "metadata": {},
   "outputs": [
    {
     "data": {
      "text/plain": [
       "[array(['Iris-setosa', 'Iris-versicolor', 'Iris-virginica'], dtype=object)]"
      ]
     },
     "execution_count": 113,
     "metadata": {},
     "output_type": "execute_result"
    }
   ],
   "source": [
    "# To be sure I still have the right labels \n",
    "cat_encoder.categories_"
   ]
  },
  {
   "cell_type": "markdown",
   "id": "9bfae4b1-62eb-4bba-922a-025bab77e804",
   "metadata": {},
   "source": [
    "#### 6.1 Training and evaluating on the training set"
   ]
  },
  {
   "cell_type": "code",
   "execution_count": 114,
   "id": "044e708a-7ee2-4a06-817d-a5754479ce83",
   "metadata": {},
   "outputs": [
    {
     "data": {
      "text/plain": [
       "LinearRegression()"
      ]
     },
     "execution_count": 114,
     "metadata": {},
     "output_type": "execute_result"
    }
   ],
   "source": [
    "# Now that I am ready to try out different kind of algorithms I will start out with LinearRegression and measure\n",
    "# it's performance\n",
    "lin_reg = LinearRegression()\n",
    "lin_reg.fit(X, y)"
   ]
  },
  {
   "cell_type": "code",
   "execution_count": 165,
   "id": "b6872ad3-4b8c-41a8-870a-98eb17467128",
   "metadata": {},
   "outputs": [
    {
     "data": {
      "text/plain": [
       "0.5845893546875128"
      ]
     },
     "execution_count": 165,
     "metadata": {},
     "output_type": "execute_result"
    }
   ],
   "source": [
    "lin_reg.score(X, y)"
   ]
  },
  {
   "cell_type": "code",
   "execution_count": 115,
   "id": "e3c7a103-6b59-47bc-bd7e-650d8f18ac3c",
   "metadata": {},
   "outputs": [
    {
     "name": "stdout",
     "output_type": "stream",
     "text": [
      "Predictions: [[ 1.06400709  0.00667716 -0.07068425]\n",
      " [ 1.2041202  -0.33301799  0.12889779]\n",
      " [ 0.22784497  0.36728369  0.40487134]\n",
      " [ 0.89378361  0.2053749  -0.09915851]\n",
      " [ 0.88671895  0.2368994  -0.12361835]\n",
      " [-0.10817456  0.52883693  0.57933763]\n",
      " [ 0.21256368  0.29000001  0.49743631]\n",
      " [ 0.95922305  0.15168823 -0.11091128]\n",
      " [ 0.99752305  0.08407186 -0.08159491]\n",
      " [ 1.12320594 -0.08258838 -0.04061756]\n",
      " [-0.09953057  0.44236377  0.6571668 ]\n",
      " [ 0.24010562  0.14742159  0.61247279]\n",
      " [ 0.15764268  0.37696505  0.46539227]\n",
      " [ 1.10182786 -0.1443066   0.04247874]\n",
      " [ 1.02067399  0.06443931 -0.0851133 ]\n",
      " [ 0.16523843  0.70745666  0.1273049 ]\n",
      " [-0.02363397  0.57362506  0.45000891]\n",
      " [-0.04538969  0.38201724  0.66337244]\n",
      " [ 0.19711951  0.41090814  0.39197235]\n",
      " [-0.05244493 -0.01677658  1.06922151]\n",
      " [ 0.17926616  0.44330538  0.37742846]\n",
      " [-0.27020841  0.51892091  0.7512875 ]\n",
      " [ 0.1239733   0.36331924  0.51270746]\n",
      " [ 0.97584406  0.13233955 -0.10818362]\n",
      " [-0.33246433  0.67156155  0.66090278]\n",
      " [ 0.17283782  0.64469154  0.18247064]\n",
      " [ 0.95416508  0.18060724 -0.13477232]\n",
      " [ 0.98569553  0.07159105 -0.05728659]\n",
      " [ 0.9351904  -0.003163    0.0679726 ]\n",
      " [ 0.08010183  0.84557875  0.07431942]\n",
      " [-0.02785631  0.46131754  0.56653877]\n",
      " [ 0.83035085  0.25645609 -0.08680695]\n",
      " [ 0.7980212   0.39380242 -0.19182362]\n",
      " [ 0.83969824  0.15111342  0.00918835]\n",
      " [ 0.12233846  0.53287591  0.34478563]\n",
      " [ 0.92849759  0.19531268 -0.12381027]\n",
      " [ 0.21223792  0.43875913  0.34900295]\n",
      " [-0.08398116  0.12930119  0.95467997]\n",
      " [ 0.87462118  0.25856969 -0.13319088]\n",
      " [ 0.18073811  0.47194052  0.34732137]\n",
      " [-0.14208355  0.47350742  0.66857613]\n",
      " [ 1.1773526  -0.1799965   0.00264389]\n",
      " [ 0.05832489  0.29948742  0.64218769]\n",
      " [-0.09953057  0.44236377  0.6571668 ]\n",
      " [ 0.07201743  0.86203807  0.0659445 ]\n",
      " [ 0.11492682  0.35867601  0.52639717]\n",
      " [ 0.01146705  0.01550963  0.97302332]\n",
      " [ 0.05529483  0.68028446  0.26442071]\n",
      " [ 1.01725085 -0.07619835  0.0589475 ]\n",
      " [ 0.20099701  0.67368641  0.12531658]\n",
      " [-0.11467962  0.49034758  0.62433204]\n",
      " [ 0.91891637  0.22191008 -0.14082645]\n",
      " [ 0.93500265  0.23380203 -0.16880468]\n",
      " [ 0.13732464  0.6830839   0.17959146]\n",
      " [ 0.05446861  0.39119267  0.55433872]\n",
      " [ 0.84761397  0.36990749 -0.21752146]\n",
      " [-0.10717605  0.18941859  0.91775745]\n",
      " [ 0.92397435  0.19299107 -0.11696542]\n",
      " [ 0.90195416 -0.00152723  0.09957307]\n",
      " [ 0.1062061   0.20527366  0.68852024]\n",
      " [ 0.31458792  0.49163487  0.19377721]\n",
      " [-0.07270746  0.17473426  0.8979732 ]\n",
      " [-0.07017546  0.57120647  0.498969  ]\n",
      " [-0.18403662  0.78740911  0.39662752]\n",
      " [-0.17350299  0.35330757  0.82019542]\n",
      " [ 0.10769928  0.58839231  0.30390841]\n",
      " [ 0.78696803  0.39176468 -0.17873271]\n",
      " [ 0.87884931  0.33381563 -0.21266493]\n",
      " [-0.17327279  0.82530958  0.34796321]\n",
      " [-0.08872279  0.4397794   0.64894339]\n",
      " [ 0.82727471  0.32154283 -0.14881753]\n",
      " [ 0.96907452  0.09093973 -0.06001425]\n",
      " [ 0.8343145   0.32879155 -0.16310605]\n",
      " [-0.05995214  0.67740915  0.38254299]\n",
      " [-0.03306775  0.01048555  1.02258221]\n",
      " [ 0.92025609  0.12527773 -0.04553382]\n",
      " [-0.07380757  0.31305031  0.76075726]\n",
      " [-0.15061653  0.08314005  1.06747648]\n",
      " [ 0.90028868  0.24386425 -0.14415292]\n",
      " [ 0.08486832  0.49632733  0.41880435]\n",
      " [ 0.09113377  0.49313298  0.41573325]\n",
      " [ 0.01496692  0.39602279  0.58901029]\n",
      " [ 0.20418417  0.37938364  0.41643219]\n",
      " [-0.01074666  0.09501794  0.91572872]\n",
      " [ 1.01216223  0.02855546 -0.04071769]\n",
      " [-0.02193785  0.25239879  0.76953906]\n",
      " [ 0.20097578  0.31920289  0.47982132]\n",
      " [-0.017175    0.2964041   0.7207709 ]\n",
      " [ 0.26897787  0.58615362  0.14486851]\n",
      " [ 0.16090871  0.43110844  0.40798284]\n",
      " [ 0.1322148   0.4333542   0.43443101]\n",
      " [ 0.64865263  0.61133584 -0.25998847]\n",
      " [ 0.13539832  0.53230816  0.33229352]\n",
      " [ 0.05609403  0.65195431  0.29195165]\n",
      " [ 1.01615074  0.0621177  -0.07826844]\n",
      " [ 0.22208939  0.37801063  0.39989998]\n",
      " [-0.22623898  0.63102042  0.59521856]\n",
      " [-0.04201264  0.2069446   0.83506804]\n",
      " [ 0.99356518 -0.02532517  0.03175999]\n",
      " [ 0.22267599  0.62541873  0.15190528]\n",
      " [-0.0690908   0.04134532  1.02774549]\n",
      " [-0.08529966  0.58041706  0.50488259]\n",
      " [ 0.84761397  0.36990749 -0.21752146]\n",
      " [-0.09358146  0.15761022  0.93597124]\n",
      " [ 0.83578646  0.35742668 -0.19321314]\n",
      " [ 0.12440066  0.4156624   0.45993694]\n",
      " [-0.212399    0.60383416  0.60856484]\n",
      " [-0.12346163  0.48861483  0.6348468 ]\n",
      " [ 0.17420818  0.47222439  0.35356743]\n",
      " [-0.06706867  0.43028493  0.63678374]\n",
      " [ 0.00690375  0.76696562  0.22613062]\n",
      " [ 0.18978459  0.47658374  0.33363166]\n",
      " [-0.04685586  0.31632052  0.73053534]\n",
      " [-0.00963111  0.34824699  0.66138412]\n",
      " [ 0.89977881  0.23633165 -0.13611046]\n",
      " [ 0.2134454   0.46448379  0.32207081]\n",
      " [-0.0522396   0.49399865  0.55824094]\n",
      " [ 1.18080638 -0.11519363 -0.06561275]\n",
      " [ 0.15424077  0.59081091  0.25494832]\n",
      " [-0.14481485  0.3881234   0.75669145]]\n"
     ]
    }
   ],
   "source": [
    "print(\"Predictions:\", lin_reg.predict(X))"
   ]
  },
  {
   "cell_type": "code",
   "execution_count": 116,
   "id": "2a365810-0758-48a3-a78a-03646774b5fe",
   "metadata": {},
   "outputs": [
    {
     "data": {
      "text/plain": [
       "0.3043102171246007"
      ]
     },
     "execution_count": 116,
     "metadata": {},
     "output_type": "execute_result"
    }
   ],
   "source": [
    "# I will now measure the models root mean square error (RMSE)\n",
    "iris_predictions = lin_reg.predict(X)\n",
    "lin_mse = mean_squared_error(y, iris_predictions)\n",
    "lin_rmse = np.sqrt(lin_mse)\n",
    "lin_rmse"
   ]
  },
  {
   "cell_type": "code",
   "execution_count": 117,
   "id": "df094877-81e9-41fd-952f-d689d8bed2fe",
   "metadata": {},
   "outputs": [
    {
     "data": {
      "text/plain": [
       "0.2403671478790056"
      ]
     },
     "execution_count": 117,
     "metadata": {},
     "output_type": "execute_result"
    }
   ],
   "source": [
    "# I will also look at the absolute error\n",
    "lin_mae = mean_absolute_error(y, iris_predictions)\n",
    "lin_mae"
   ]
  },
  {
   "cell_type": "code",
   "execution_count": 118,
   "id": "24cc75fb-6180-4d8a-b1e6-aa2927876117",
   "metadata": {},
   "outputs": [],
   "source": [
    "# This is a relatively high error when looking at the measurements from our original dataset\n",
    "# I will now try with another model called Decision tree which is great at finding nonlinear relationships in the data. "
   ]
  },
  {
   "cell_type": "code",
   "execution_count": 119,
   "id": "ec1702f0-875e-4876-b5fc-89f450126806",
   "metadata": {},
   "outputs": [
    {
     "data": {
      "text/plain": [
       "DecisionTreeRegressor(random_state=42)"
      ]
     },
     "execution_count": 119,
     "metadata": {},
     "output_type": "execute_result"
    }
   ],
   "source": [
    "tree_reg = DecisionTreeRegressor(random_state=42)\n",
    "tree_reg.fit(X, y)"
   ]
  },
  {
   "cell_type": "code",
   "execution_count": 164,
   "id": "642f0669-1d1b-4a17-b78b-e2a451db9781",
   "metadata": {},
   "outputs": [
    {
     "data": {
      "text/plain": [
       "1.0"
      ]
     },
     "execution_count": 164,
     "metadata": {},
     "output_type": "execute_result"
    }
   ],
   "source": [
    "tree_reg.score(X, y)"
   ]
  },
  {
   "cell_type": "code",
   "execution_count": 120,
   "id": "95e94879-a494-4a1d-9c8c-74070cdc3cc2",
   "metadata": {},
   "outputs": [
    {
     "data": {
      "text/plain": [
       "0.0"
      ]
     },
     "execution_count": 120,
     "metadata": {},
     "output_type": "execute_result"
    }
   ],
   "source": [
    "# The model is trained, now I will evaluate\n",
    "iris_predictions = tree_reg.predict(X)\n",
    "tree_mse = mean_squared_error(y, iris_predictions)\n",
    "tree_rmse = np.sqrt(tree_mse)\n",
    "tree_rmse"
   ]
  },
  {
   "cell_type": "code",
   "execution_count": 121,
   "id": "8eda063c-9397-4277-b96b-e8e2bacc1860",
   "metadata": {},
   "outputs": [
    {
     "data": {
      "text/plain": [
       "RandomForestRegressor()"
      ]
     },
     "execution_count": 121,
     "metadata": {},
     "output_type": "execute_result"
    }
   ],
   "source": [
    "# That is a very low error which could indicate that we have a perfect model but it seems it is more likely that the model has badly\n",
    "# overfittet the data.\n",
    "# I will now try with a random forest model\n",
    "forest_reg = RandomForestRegressor()\n",
    "forest_reg.fit(X, y)"
   ]
  },
  {
   "cell_type": "code",
   "execution_count": 122,
   "id": "37cb0027-c815-4517-89be-04e72a22983a",
   "metadata": {},
   "outputs": [
    {
     "data": {
      "text/plain": [
       "0.9779021405490481"
      ]
     },
     "execution_count": 122,
     "metadata": {},
     "output_type": "execute_result"
    }
   ],
   "source": [
    "forest_reg.score(X, y)"
   ]
  },
  {
   "cell_type": "code",
   "execution_count": 123,
   "id": "d2727af0-d095-43ec-be2a-29b433327360",
   "metadata": {},
   "outputs": [
    {
     "data": {
      "text/plain": [
       "0.070059498523279"
      ]
     },
     "execution_count": 123,
     "metadata": {},
     "output_type": "execute_result"
    }
   ],
   "source": [
    "iris_predictions = forest_reg.predict(X)\n",
    "mse = mean_squared_error(y, iris_predictions)\n",
    "rmse = np.sqrt(mse)\n",
    "rmse"
   ]
  },
  {
   "cell_type": "markdown",
   "id": "5bf04102-0df6-489c-89d3-85dc2564d22b",
   "metadata": {},
   "source": [
    "## 7. Fine-Tune your model"
   ]
  },
  {
   "cell_type": "markdown",
   "id": "b81e2b71-6b30-48cf-bcae-79d8bc874abe",
   "metadata": {},
   "source": [
    "#### 7.1 Standardizing the data"
   ]
  },
  {
   "cell_type": "code",
   "execution_count": 124,
   "id": "867767fa-23dd-43f6-8571-8b27d4ed2dd5",
   "metadata": {},
   "outputs": [],
   "source": [
    "# First of I start with standardizing the data. Data standardization is the process of rescaling one or more attributes so \n",
    "# that they have a mean value of 0 and a standard deviation of 1\n",
    "# Standardizing the features:\n",
    "x = StandardScaler().fit_transform(X)"
   ]
  },
  {
   "cell_type": "markdown",
   "id": "c56028b4-df4f-42e3-8300-718b1fc1efba",
   "metadata": {},
   "source": [
    "#### 7.2 Principal Component Analysis"
   ]
  },
  {
   "cell_type": "code",
   "execution_count": 125,
   "id": "7b662ba3-518f-4d92-8ec6-331c04b72d40",
   "metadata": {},
   "outputs": [],
   "source": [
    "# Then I use PCA to reduce the dimensions of the dataset to a 2-dimensional dataset\n",
    "pca = PCA(n_components=2)\n",
    "principalComponents = pca.fit_transform(x)\n",
    "principalDf = pd.DataFrame(data = principalComponents\n",
    "             , columns = ['principal component 1', 'principal component 2'])"
   ]
  },
  {
   "cell_type": "code",
   "execution_count": 128,
   "id": "3ed9e724-3eb2-4469-9604-4433d1d96c91",
   "metadata": {},
   "outputs": [
    {
     "data": {
      "text/html": [
       "<div>\n",
       "<style scoped>\n",
       "    .dataframe tbody tr th:only-of-type {\n",
       "        vertical-align: middle;\n",
       "    }\n",
       "\n",
       "    .dataframe tbody tr th {\n",
       "        vertical-align: top;\n",
       "    }\n",
       "\n",
       "    .dataframe thead th {\n",
       "        text-align: right;\n",
       "    }\n",
       "</style>\n",
       "<table border=\"1\" class=\"dataframe\">\n",
       "  <thead>\n",
       "    <tr style=\"text-align: right;\">\n",
       "      <th></th>\n",
       "      <th>principal component 1</th>\n",
       "      <th>principal component 2</th>\n",
       "    </tr>\n",
       "  </thead>\n",
       "  <tbody>\n",
       "    <tr>\n",
       "      <th>0</th>\n",
       "      <td>-2.740949</td>\n",
       "      <td>0.452909</td>\n",
       "    </tr>\n",
       "    <tr>\n",
       "      <th>1</th>\n",
       "      <td>-2.201668</td>\n",
       "      <td>2.646865</td>\n",
       "    </tr>\n",
       "    <tr>\n",
       "      <th>2</th>\n",
       "      <td>0.927518</td>\n",
       "      <td>0.529513</td>\n",
       "    </tr>\n",
       "    <tr>\n",
       "      <th>3</th>\n",
       "      <td>-2.294992</td>\n",
       "      <td>0.138398</td>\n",
       "    </tr>\n",
       "    <tr>\n",
       "      <th>4</th>\n",
       "      <td>-2.529699</td>\n",
       "      <td>-0.466591</td>\n",
       "    </tr>\n",
       "    <tr>\n",
       "      <th>...</th>\n",
       "      <td>...</td>\n",
       "      <td>...</td>\n",
       "    </tr>\n",
       "    <tr>\n",
       "      <th>115</th>\n",
       "      <td>0.516707</td>\n",
       "      <td>-0.385241</td>\n",
       "    </tr>\n",
       "    <tr>\n",
       "      <th>116</th>\n",
       "      <td>0.404668</td>\n",
       "      <td>-1.533291</td>\n",
       "    </tr>\n",
       "    <tr>\n",
       "      <th>117</th>\n",
       "      <td>-2.152237</td>\n",
       "      <td>1.846379</td>\n",
       "    </tr>\n",
       "    <tr>\n",
       "      <th>118</th>\n",
       "      <td>0.370140</td>\n",
       "      <td>-0.948073</td>\n",
       "    </tr>\n",
       "    <tr>\n",
       "      <th>119</th>\n",
       "      <td>2.270017</td>\n",
       "      <td>0.579572</td>\n",
       "    </tr>\n",
       "  </tbody>\n",
       "</table>\n",
       "<p>120 rows × 2 columns</p>\n",
       "</div>"
      ],
      "text/plain": [
       "     principal component 1  principal component 2\n",
       "0                -2.740949               0.452909\n",
       "1                -2.201668               2.646865\n",
       "2                 0.927518               0.529513\n",
       "3                -2.294992               0.138398\n",
       "4                -2.529699              -0.466591\n",
       "..                     ...                    ...\n",
       "115               0.516707              -0.385241\n",
       "116               0.404668              -1.533291\n",
       "117              -2.152237               1.846379\n",
       "118               0.370140              -0.948073\n",
       "119               2.270017               0.579572\n",
       "\n",
       "[120 rows x 2 columns]"
      ]
     },
     "execution_count": 128,
     "metadata": {},
     "output_type": "execute_result"
    }
   ],
   "source": [
    "# The result from reducing the dimensions\n",
    "principalDf"
   ]
  },
  {
   "cell_type": "code",
   "execution_count": 131,
   "id": "8cef540f-0f28-41c2-9c83-d2af727f1f43",
   "metadata": {},
   "outputs": [
    {
     "data": {
      "text/html": [
       "<div>\n",
       "<style scoped>\n",
       "    .dataframe tbody tr th:only-of-type {\n",
       "        vertical-align: middle;\n",
       "    }\n",
       "\n",
       "    .dataframe tbody tr th {\n",
       "        vertical-align: top;\n",
       "    }\n",
       "\n",
       "    .dataframe thead th {\n",
       "        text-align: right;\n",
       "    }\n",
       "</style>\n",
       "<table border=\"1\" class=\"dataframe\">\n",
       "  <thead>\n",
       "    <tr style=\"text-align: right;\">\n",
       "      <th></th>\n",
       "      <th>principal component 1</th>\n",
       "      <th>principal component 2</th>\n",
       "      <th>target</th>\n",
       "    </tr>\n",
       "  </thead>\n",
       "  <tbody>\n",
       "    <tr>\n",
       "      <th>0</th>\n",
       "      <td>-2.740949</td>\n",
       "      <td>0.452909</td>\n",
       "      <td>Iris-setosa</td>\n",
       "    </tr>\n",
       "    <tr>\n",
       "      <th>1</th>\n",
       "      <td>-2.201668</td>\n",
       "      <td>2.646865</td>\n",
       "      <td>Iris-setosa</td>\n",
       "    </tr>\n",
       "    <tr>\n",
       "      <th>2</th>\n",
       "      <td>0.927518</td>\n",
       "      <td>0.529513</td>\n",
       "      <td>Iris-setosa</td>\n",
       "    </tr>\n",
       "    <tr>\n",
       "      <th>3</th>\n",
       "      <td>-2.294992</td>\n",
       "      <td>0.138398</td>\n",
       "      <td>Iris-setosa</td>\n",
       "    </tr>\n",
       "    <tr>\n",
       "      <th>4</th>\n",
       "      <td>-2.529699</td>\n",
       "      <td>-0.466591</td>\n",
       "      <td>Iris-setosa</td>\n",
       "    </tr>\n",
       "    <tr>\n",
       "      <th>...</th>\n",
       "      <td>...</td>\n",
       "      <td>...</td>\n",
       "      <td>...</td>\n",
       "    </tr>\n",
       "    <tr>\n",
       "      <th>144</th>\n",
       "      <td>NaN</td>\n",
       "      <td>NaN</td>\n",
       "      <td>Iris-virginica</td>\n",
       "    </tr>\n",
       "    <tr>\n",
       "      <th>146</th>\n",
       "      <td>NaN</td>\n",
       "      <td>NaN</td>\n",
       "      <td>Iris-virginica</td>\n",
       "    </tr>\n",
       "    <tr>\n",
       "      <th>147</th>\n",
       "      <td>NaN</td>\n",
       "      <td>NaN</td>\n",
       "      <td>Iris-virginica</td>\n",
       "    </tr>\n",
       "    <tr>\n",
       "      <th>148</th>\n",
       "      <td>NaN</td>\n",
       "      <td>NaN</td>\n",
       "      <td>Iris-virginica</td>\n",
       "    </tr>\n",
       "    <tr>\n",
       "      <th>149</th>\n",
       "      <td>NaN</td>\n",
       "      <td>NaN</td>\n",
       "      <td>Iris-virginica</td>\n",
       "    </tr>\n",
       "  </tbody>\n",
       "</table>\n",
       "<p>143 rows × 3 columns</p>\n",
       "</div>"
      ],
      "text/plain": [
       "     principal component 1  principal component 2          target\n",
       "0                -2.740949               0.452909     Iris-setosa\n",
       "1                -2.201668               2.646865     Iris-setosa\n",
       "2                 0.927518               0.529513     Iris-setosa\n",
       "3                -2.294992               0.138398     Iris-setosa\n",
       "4                -2.529699              -0.466591     Iris-setosa\n",
       "..                     ...                    ...             ...\n",
       "144                    NaN                    NaN  Iris-virginica\n",
       "146                    NaN                    NaN  Iris-virginica\n",
       "147                    NaN                    NaN  Iris-virginica\n",
       "148                    NaN                    NaN  Iris-virginica\n",
       "149                    NaN                    NaN  Iris-virginica\n",
       "\n",
       "[143 rows x 3 columns]"
      ]
     },
     "execution_count": 131,
     "metadata": {},
     "output_type": "execute_result"
    }
   ],
   "source": [
    "# Concatenating the PCA result with the label 'target'\n",
    "finalDf = pd.concat([principalDf, train_set[['target']]], axis = 1)\n",
    "finalDf"
   ]
  },
  {
   "cell_type": "code",
   "execution_count": 132,
   "id": "dee125d3-5b79-45c8-9799-c291d55a7212",
   "metadata": {},
   "outputs": [
    {
     "data": {
      "image/png": "[encoded data removed]",
      "text/plain": [
       "<Figure size 576x576 with 1 Axes>"
      ]
     },
     "metadata": {},
     "output_type": "display_data"
    }
   ],
   "source": [
    "# Visualizing my new PCA dataset\n",
    "fig = plt.figure(figsize = (8,8))\n",
    "ax = fig.add_subplot(1,1,1) \n",
    "ax.set_xlabel('Principal Component 1', fontsize = 15)\n",
    "ax.set_ylabel('Principal Component 2', fontsize = 15)\n",
    "ax.set_title('2 component PCA', fontsize = 20)\n",
    "targets = ['Iris-setosa', 'Iris-versicolor', 'Iris-virginica']\n",
    "colors = ['r', 'g', 'b']\n",
    "for target, color in zip(targets,colors):\n",
    "    indicesToKeep = finalDf['target'] == target\n",
    "    ax.scatter(finalDf.loc[indicesToKeep, 'principal component 1']\n",
    "               , finalDf.loc[indicesToKeep, 'principal component 2']\n",
    "               , c = color\n",
    "               , s = 50)\n",
    "ax.legend(targets)\n",
    "ax.grid()"
   ]
  },
  {
   "cell_type": "code",
   "execution_count": 133,
   "id": "b33edf08-a0a5-4271-b72f-80c0a50f754f",
   "metadata": {},
   "outputs": [
    {
     "data": {
      "text/plain": [
       "array([0.72317687, 0.23215265])"
      ]
     },
     "execution_count": 133,
     "metadata": {},
     "output_type": "execute_result"
    }
   ],
   "source": [
    "# Getting an overview of the data spread in %\n",
    "pca.explained_variance_ratio_"
   ]
  },
  {
   "cell_type": "code",
   "execution_count": 154,
   "id": "7fe37e03-d561-4cee-95e2-cd894da3e9c4",
   "metadata": {},
   "outputs": [],
   "source": [
    "# Make an instance of the PCA Model with a variance ration of 95%\n",
    "pca = PCA(.95)"
   ]
  },
  {
   "cell_type": "code",
   "execution_count": 155,
   "id": "57cb70d1-0e0a-45e4-9fba-d659e2940799",
   "metadata": {},
   "outputs": [
    {
     "data": {
      "text/plain": [
       "PCA(n_components=0.95)"
      ]
     },
     "execution_count": 155,
     "metadata": {},
     "output_type": "execute_result"
    }
   ],
   "source": [
    "pca.fit(x)"
   ]
  },
  {
   "cell_type": "markdown",
   "id": "d96ad08a-2a62-4c72-8685-303350521b81",
   "metadata": {},
   "source": [
    "#### 7.3 Comparison of the model with and without PCA"
   ]
  },
  {
   "cell_type": "code",
   "execution_count": 156,
   "id": "4dfb01de-b5d2-41b7-91da-bb2d4b616d8b",
   "metadata": {},
   "outputs": [],
   "source": [
    "# Preparing X_test for the machine learning model\n",
    "array = test_set.values\n",
    "X_test = array[:,0:4]"
   ]
  },
  {
   "cell_type": "code",
   "execution_count": 157,
   "id": "c802b06f-2bfa-4e87-ab6e-f24cad601f7b",
   "metadata": {},
   "outputs": [],
   "source": [
    "train_pca = pca.transform(x)\n",
    "test_pca = pca.transform(X_test)"
   ]
  },
  {
   "cell_type": "code",
   "execution_count": 142,
   "id": "25c164f3-1d9f-481b-9fa4-f84e2de37032",
   "metadata": {},
   "outputs": [],
   "source": [
    "# Making and instance of the random forest model\n",
    "forest_reg_with_pca = RandomForestRegressor()"
   ]
  },
  {
   "cell_type": "code",
   "execution_count": 158,
   "id": "ea97e40e-f71c-4104-9b67-15d53bbb3798",
   "metadata": {},
   "outputs": [
    {
     "data": {
      "text/plain": [
       "RandomForestRegressor()"
      ]
     },
     "execution_count": 158,
     "metadata": {},
     "output_type": "execute_result"
    }
   ],
   "source": [
    "# Using PCA dataset to train the new model\n",
    "forest_reg_with_pca.fit(train_pca, y)"
   ]
  },
  {
   "cell_type": "code",
   "execution_count": 159,
   "id": "453207ca-2c5e-4e2c-aa2d-ac316c9aa4fc",
   "metadata": {},
   "outputs": [
    {
     "data": {
      "text/plain": [
       "0.070059498523279"
      ]
     },
     "execution_count": 159,
     "metadata": {},
     "output_type": "execute_result"
    }
   ],
   "source": [
    "# Using my test data to predict and measuring my RMSE\n",
    "forest_predictions = forest_reg_with_pca.predict(test_pca)\n",
    "mse = mean_squared_error(y, iris_predictions)\n",
    "rmse = np.sqrt(mse)\n",
    "rmse"
   ]
  },
  {
   "cell_type": "code",
   "execution_count": 160,
   "id": "786d5aa0-85c3-4bf9-aa2e-7fe331dc5f54",
   "metadata": {},
   "outputs": [
    {
     "data": {
      "text/plain": [
       "0.9749882745320294"
      ]
     },
     "execution_count": 160,
     "metadata": {},
     "output_type": "execute_result"
    }
   ],
   "source": [
    "# Same score as with the data without PCA\n",
    "forest_reg_with_pca.score(train_pca, y)"
   ]
  },
  {
   "cell_type": "markdown",
   "id": "7f6248c5-ea1f-40a4-9374-50a04cd4a8a5",
   "metadata": {},
   "source": [
    "#### 7.4 Time measurement on datasets"
   ]
  },
  {
   "cell_type": "code",
   "execution_count": 161,
   "id": "12674e2e-c8a7-4abc-9b97-2099aaef9c64",
   "metadata": {},
   "outputs": [
    {
     "name": "stdout",
     "output_type": "stream",
     "text": [
      "84.1 ms ± 1.29 ms per loop (mean ± std. dev. of 7 runs, 10 loops each)\n"
     ]
    }
   ],
   "source": [
    "# First of I start with timing the random forest model without PCA\n",
    "%timeit forest_reg.fit(x, y)"
   ]
  },
  {
   "cell_type": "code",
   "execution_count": 162,
   "id": "e8ada046-639a-4d5c-a4de-c07bd21ce366",
   "metadata": {},
   "outputs": [
    {
     "name": "stdout",
     "output_type": "stream",
     "text": [
      "82.1 ms ± 1.29 ms per loop (mean ± std. dev. of 7 runs, 10 loops each)\n"
     ]
    }
   ],
   "source": [
    "# Thereafter I time the same model but with the PCA reduced data\n",
    "%timeit forest_reg_with_pca.fit(train_pca, y)"
   ]
  },
  {
   "cell_type": "markdown",
   "id": "d45d760a-35e7-4f4a-9411-9050cf4def82",
   "metadata": {},
   "source": [
    "## 8. Conclusion"
   ]
  },
  {
   "cell_type": "markdown",
   "id": "1c9bb467-0887-45a9-8f3e-ef7d33d3cfab",
   "metadata": {},
   "source": [
    "I can not see a reduction in time when running my models which can indicate that PCA is not helpful in my case. In theory my model should run faster but since PCA is used to reduce dimensions in large datasets I can only conclude that the dataset is to small to make any real optimization. Out of the three models I have trained I can conclude that DecisionTree was the one that had the highest score, however this can be the result of overfitting which I could see with a RMSE of 0.0."
   ]
  }
 ],
 "metadata": {
  "kernelspec": {
   "display_name": "Python 3 (ipykernel)",
   "language": "python",
   "name": "python3"
  },
  "language_info": {
   "codemirror_mode": {
    "name": "ipython",
    "version": 3
   },
   "file_extension": ".py",
   "mimetype": "text/x-python",
   "name": "python",
   "nbconvert_exporter": "python",
   "pygments_lexer": "ipython3",
   "version": "3.9.7"
  }
 },
 "nbformat": 4,
 "nbformat_minor": 5
}
